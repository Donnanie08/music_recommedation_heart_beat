{
 "cells": [
  {
   "cell_type": "code",
   "execution_count": 1,
   "metadata": {},
   "outputs": [],
   "source": [
    "from whoosh.qparser import *\n",
    "from whoosh.fields import Schema, TEXT, KEYWORD, ID, STORED,NUMERIC\n",
    "from whoosh.analysis import StemmingAnalyzer,StandardAnalyzer\n",
    "from whoosh import index\n",
    "import os, os.path"
   ]
  },
  {
   "cell_type": "code",
   "execution_count": 14,
   "metadata": {},
   "outputs": [],
   "source": [
    "class songDoc:\n",
    "    def __init__(self, trackid, songid):\n",
    "        self.trackid = trackid\n",
    "        self.songid = songid\n",
    "        self.title = \"\"\n",
    "        self.artist = \"\"\n",
    "        self.genre = \"\"\n",
    "        self.tempo = 0\n",
    "        self.artisthot = 0\n",
    "        \n",
    "    def setTitle(self, title):\n",
    "        self.title = title\n",
    "\n",
    "    def setTempo(self, tempo):\n",
    "        self.tempo = tempo\n",
    "        \n",
    "    def setArtist(self, artist):\n",
    "        self.artist = artist\n",
    "        \n",
    "    def setGenre(self, genre):\n",
    "        self.genre = genre"
   ]
  },
  {
   "cell_type": "code",
   "execution_count": 28,
   "metadata": {},
   "outputs": [],
   "source": [
    "import json\n",
    "import glob\n",
    "\n",
    "def loadDirectory(data_dir):    \n",
    "    if not os.path.exists(data_dir):\n",
    "        print(\"no json file exists\")\n",
    "    else:\n",
    "        path = data_dir + '*.json'\n",
    "\n",
    "    filenames = glob.glob(path)\n",
    "    for filename in filenames:\n",
    "        analyzeDocument(loadJason(filename))\n",
    "\n",
    "def loadJason(filename):\n",
    "    with open(filename, \"r\") as read_file:\n",
    "        songs = json.load(read_file)\n",
    "    return songs\n",
    "\n",
    "def analyzeDocument(songs):\n",
    "    for song in songs:\n",
    "        doc = songDoc(song[\"track_id\"], song[\"song_id\"])\n",
    "        doc.setTitle(song[\"title\"])\n",
    "        doc.setTempo(float(song[\"tempo\"]))\n",
    "        doc.setArtist(song[\"artist_name\"])\n",
    "        doc.setGenre(list(song[\"artist_terms\"]))\n",
    "        corpus.append(doc)"
   ]
  },
  {
   "cell_type": "code",
   "execution_count": 39,
   "metadata": {},
   "outputs": [],
   "source": [
    "corpus = []\n",
    "loadDirectory('data/')"
   ]
  },
  {
   "cell_type": "code",
   "execution_count": 40,
   "metadata": {},
   "outputs": [],
   "source": [
    "schema = Schema(tempo=NUMERIC(float, stored=True),\n",
    "                author=TEXT(analyzer=StandardAnalyzer(stoplist=None),stored=True),\n",
    "                title=TEXT(analyzer=StandardAnalyzer(stoplist=None),stored=True),\n",
    "                content=TEXT(analyzer=StandardAnalyzer(stoplist=None),stored=True))"
   ]
  },
  {
   "cell_type": "code",
   "execution_count": 64,
   "metadata": {},
   "outputs": [],
   "source": [
    "schemaTest = Schema(tempo=NUMERIC(float, stored=True),\n",
    "                author=TEXT(analyzer=StandardAnalyzer(stoplist=None),stored=True),\n",
    "                title=TEXT(analyzer=StandardAnalyzer(stoplist=None),stored=True),\n",
    "                content=KEYWORD(lowercase=True, commas=True,scorable=True))\n"
   ]
  },
  {
   "cell_type": "code",
   "execution_count": 6,
   "metadata": {},
   "outputs": [],
   "source": [
    "#to create an index in a dictionary\n",
    "if not os.path.exists(\"indexdir\"):\n",
    "    os.mkdir(\"indexdir\")\n",
    "ix = index.create_in(\"indexdir\", schema)\n",
    "#open an existing index object\n",
    "ix = index.open_dir(\"indexdir\")\n",
    "#create a writer object to add documents to the index\n",
    "writer = ix.writer()\n",
    "#now we can add documents to the index"
   ]
  },
  {
   "cell_type": "code",
   "execution_count": 65,
   "metadata": {},
   "outputs": [],
   "source": [
    "#to create an index in a dictionary\n",
    "if not os.path.exists(\"index5\"):\n",
    "    os.mkdir(\"index5\")\n",
    "ix = index.create_in(\"index5\", schemaTest)\n",
    "#open an existing index object\n",
    "ix = index.open_dir(\"index5\")\n",
    "#create a writer object to add documents to the index\n",
    "writer = ix.writer()\n",
    "#now we can add documents to the index"
   ]
  },
  {
   "cell_type": "code",
   "execution_count": 66,
   "metadata": {},
   "outputs": [],
   "source": [
    "for doc in corpus:\n",
    "    writer.add_document(tempo=doc.tempo, author=doc.artist, title=doc.title, content=doc.genre)\n",
    "writer.commit()"
   ]
  },
  {
   "cell_type": "code",
   "execution_count": 79,
   "metadata": {},
   "outputs": [
    {
     "name": "stdout",
     "output_type": "stream",
     "text": [
      "(<_NullQuery> OR content:i OR <_NullQuery> OR content:want OR <_NullQuery> OR content:some OR <_NullQuery> OR content:hardcore OR <_NullQuery> OR content:music OR tempo:{140.0 TO ])\n"
     ]
    }
   ],
   "source": [
    "parser=MultifieldParser([\"tempo\", \"content\"], schema=schemaTest, group=OrGroup)\n",
    "parser.add_plugin(GtLtPlugin()) \n",
    "result=parser.parse(u\"I want some hardcore music, tempo:>140\")\n",
    "print(result)"
   ]
  },
  {
   "cell_type": "code",
   "execution_count": 80,
   "metadata": {},
   "outputs": [
    {
     "name": "stdout",
     "output_type": "stream",
     "text": [
      "<Top 8 Results for Or([<_NullQuery>, Term('content', 'i'), <_NullQuery>, Term('content', 'want'), <_NullQuery>, Term('content', 'some'), <_NullQuery>, Term('content', 'hardcore'), <_NullQuery>, Term('content', 'music'), NumericRange('tempo', 140.0, None, True, False, boost=1.0, constantscore=True)]) runtime=0.5828746376155323>\n",
      "<Hit {'author': 'Xmilk', 'tempo': 146.454, 'title': 'Why'}>\n"
     ]
    }
   ],
   "source": [
    "from whoosh import scoring\n",
    "\n",
    "with ix.searcher(weighting=scoring.BM25F) as searcher:\n",
    "    results=searcher.search(result, limit=8)\n",
    "    print (results)\n",
    "    print (results[0])"
   ]
  }
 ],
 "metadata": {
  "kernelspec": {
   "display_name": "Python 3",
   "language": "python",
   "name": "python3"
  },
  "language_info": {
   "codemirror_mode": {
    "name": "ipython",
    "version": 3
   },
   "file_extension": ".py",
   "mimetype": "text/x-python",
   "name": "python",
   "nbconvert_exporter": "python",
   "pygments_lexer": "ipython3",
   "version": "3.6.7"
  }
 },
 "nbformat": 4,
 "nbformat_minor": 2
}
